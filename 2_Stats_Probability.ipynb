{
 "cells": [
  {
   "cell_type": "markdown",
   "id": "258b4140",
   "metadata": {},
   "source": [
    "Learning Sources: "
   ]
  },
  {
   "cell_type": "markdown",
   "id": "4884c714",
   "metadata": {},
   "source": [
    "Geeksforgeeks - https://www.geeksforgeeks.org/data-science/statistics-for-data-science/\n",
    "Khan Academy  - https://www.khanacademy.org/math/statistics-probability\n",
    "Youtube - https://www.youtube.com/@statquest\n",
    "        - https://www.youtube.com/playlist?list=PLeo1K3hjS3uuKaU2nBDwr6zrSOTzNCs0l\n",
    "        - https://www.youtube.com/@3blue1brown/courses\n",
    "        - https://www.youtube.com/watch?v=LZzq1zSL1bs\n",
    "Kaggle  - https://www.kaggle.com/code/saurav9786/statistics-for-data-scientists\n",
    "        - https://www.kaggle.com/code/rajattomar132/detailed-statistics-for-data-science/notebook\n",
    "Local Udemy: D:\\UAE_Learnings\\Data_Science\\Udemy\\Satyajit\\DataScience AI Udemy Presentation and Interview Prep\\Presentations and Interview Preparations"
   ]
  },
  {
   "cell_type": "markdown",
   "id": "0e3b1533",
   "metadata": {},
   "source": []
  }
 ],
 "metadata": {
  "language_info": {
   "name": "python"
  }
 },
 "nbformat": 4,
 "nbformat_minor": 5
}
