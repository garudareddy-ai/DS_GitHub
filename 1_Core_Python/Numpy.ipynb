{
 "cells": [
  {
   "cell_type": "markdown",
   "id": "d0903214-ae87-4302-96ec-a68e642f7299",
   "metadata": {},
   "source": [
    "NumPy (Numerical Python) is a fundamental library in Python for numerical computations. It’s a versatile tool primarily used for its advanced multi-dimensional array support.\n",
    "\n",
    "Key Features Task-Specific Modules: NumPy offers a rich suite of mathematical functions in areas such as linear algebra, Fourier analysis, and random number generation.\n",
    "\n",
    "Performance and Speed:\n",
    "\n",
    "Enables vectorized operations. Many of its core functions are implemented in C for optimized performance. It uses contiguous blocks of memory, providing efficient caching and reducing overhead during processing. Broadcasting: NumPy allows combining arrays of different shapes during arithmetic operations, facilitating streamlined computation.\n",
    "\n",
    "Linear Algebra: It provides essential linear algebra operations, including matrix multiplication and decomposition methods."
   ]
  },
  {
   "cell_type": "code",
   "execution_count": 1,
   "id": "a1afceda-760b-45a0-86f2-133ea2d2603c",
   "metadata": {},
   "outputs": [],
   "source": [
    "# 1️⃣ Installation\n",
    "# !pip install numpy\n",
    "\n",
    "# 2️⃣ Importing NumPy\n",
    "import numpy as np\n"
   ]
  },
  {
   "cell_type": "code",
   "execution_count": 2,
   "id": "c9368ec9-78a4-4425-ab96-17f8ad00f174",
   "metadata": {},
   "outputs": [
    {
     "name": "stdout",
     "output_type": "stream",
     "text": [
      "1D Array:\n",
      " [1 2 3 4 5]\n",
      "\n",
      "2D Array:\n",
      " [[1 2 3]\n",
      " [4 5 6]]\n",
      "\n",
      "3D Array:\n",
      " [[[1 2]\n",
      "  [3 4]]\n",
      "\n",
      " [[5 6]\n",
      "  [7 8]]]\n"
     ]
    }
   ],
   "source": [
    "# 3️⃣ Creating Arrays\n",
    "## A. 1D Array\n",
    "arr1 = np.array([1, 2, 3, 4, 5])\n",
    "print(\"1D Array:\\n\", arr1)\n",
    "\n",
    "## B. 2D Array (Matrix)\n",
    "arr2 = np.array([[1, 2, 3], [4, 5, 6]])\n",
    "print(\"\\n2D Array:\\n\", arr2)\n",
    "\n",
    "## C. 3D Array\n",
    "arr3 = np.array([[[1, 2], [3, 4]], [[5, 6], [7, 8]]])\n",
    "print(\"\\n3D Array:\\n\", arr3)\n"
   ]
  },
  {
   "cell_type": "code",
   "execution_count": 4,
   "id": "f81f7005-2551-46f3-8a4d-3988ecfce9e2",
   "metadata": {},
   "outputs": [
    {
     "name": "stdout",
     "output_type": "stream",
     "text": [
      "\n",
      "Shape: (2, 3)\n",
      "Size: 6\n",
      "Dimensions: 2\n",
      "Data Type: int32\n"
     ]
    }
   ],
   "source": [
    "# 4️⃣ Array Properties\n",
    "print(\"\\nShape:\", arr2.shape)\n",
    "print(\"Size:\", arr2.size)\n",
    "print(\"Dimensions:\", arr2.ndim)\n",
    "print(\"Data Type:\", arr2.dtype)"
   ]
  },
  {
   "cell_type": "code",
   "execution_count": 32,
   "id": "35726fc5-44cb-42c6-b63b-cb72bf5bbc9a",
   "metadata": {},
   "outputs": [
    {
     "name": "stdout",
     "output_type": "stream",
     "text": [
      "\n",
      "Zeros Array:\n",
      " [0. 0. 0.]\n",
      "\n",
      "Zeros Array:\n",
      " [[0. 0. 0.]\n",
      " [0. 0. 0.]\n",
      " [0. 0. 0.]]\n",
      "\n",
      "Ones Array:\n",
      " [[1. 1. 1. 1.]\n",
      " [1. 1. 1. 1.]]\n",
      "\n",
      "Identity Matrix:\n",
      " [[1. 0. 0.]\n",
      " [0. 1. 0.]\n",
      " [0. 0. 1.]]\n",
      "\n",
      "Random Array:\n",
      " [[0.74722104 0.34863351 0.61730247]\n",
      " [0.45582612 0.48498669 0.60117414]\n",
      " [0.45139479 0.23924245 0.81369537]]\n",
      "\n",
      "Random Array:\n",
      " [ 5 89 69 62 52 14 22 88  5 67]\n"
     ]
    }
   ],
   "source": [
    "# 5️⃣ Creating Special Arrays\n",
    "## A. Zeros Array\n",
    "print(\"\\nZeros Array:\\n\", np.zeros((3, )))\n",
    "print(\"\\nZeros Array:\\n\", np.zeros((3, 3)))\n",
    "\n",
    "## B. Ones Array\n",
    "print(\"\\nOnes Array:\\n\", np.ones((2, 4)))\n",
    "\n",
    "## C. Identity Matrix\n",
    "print(\"\\nIdentity Matrix:\\n\", np.eye(3))\n",
    "\n",
    "## D. Random Numbers\n",
    "print(\"\\nRandom Array:\\n\", np.random.rand(3, 3))\n",
    "\n",
    "print(\"\\nRandom Array:\\n\", np.random.randint(1,100, 10))"
   ]
  },
  {
   "cell_type": "code",
   "execution_count": 40,
   "id": "21ad2eae-167e-41f1-b777-7e55766504b7",
   "metadata": {},
   "outputs": [
    {
     "name": "stdout",
     "output_type": "stream",
     "text": [
      "\n",
      "Reshaped Array:\n",
      " [[1 2 3]\n",
      " [4 5 6]\n",
      " [7 8 9]]\n",
      "\n",
      "Flattened Array:\n",
      " [1 2 3 4 5 6 7 8 9]\n",
      "[ 1  2  3  4  5  6  7  8  9 10 11 12 13 14 15 16 17 18 19 20]\n",
      "\n",
      "Reshape Array:\n",
      " [[ 1  2  3  4]\n",
      " [ 5  6  7  8]\n",
      " [ 9 10 11 12]\n",
      " [13 14 15 16]\n",
      " [17 18 19 20]]\n",
      "\n",
      "Before Transpose Array:\n",
      " [[1 2 3]\n",
      " [4 5 6]]\n",
      "\n",
      "After Transpose Array:\n",
      " [[1 4]\n",
      " [2 5]\n",
      " [3 6]]\n"
     ]
    }
   ],
   "source": [
    "# 6️⃣ Reshaping & Flattening\n",
    "arr = np.arange(1, 10).reshape(3, 3)\n",
    "print(\"\\nReshaped Array:\\n\", arr)\n",
    "print(\"\\nFlattened Array:\\n\", arr.flatten())\n",
    "\n",
    "a = np.arange(1,21)\n",
    "print(a)\n",
    "print(\"\\nReshape Array:\\n\",a.reshape(5,4))\n",
    "\n",
    "arr2 = np.array([[1, 2, 3], [4, 5, 6]])\n",
    "print(\"\\nBefore Transpose Array:\\n\",arr2)\n",
    "print(\"\\nAfter Transpose Array:\\n\",arr2.T)"
   ]
  },
  {
   "cell_type": "code",
   "execution_count": null,
   "id": "e02b0986-22f9-4197-82d8-b36fa6561a13",
   "metadata": {},
   "outputs": [
    {
     "name": "stdout",
     "output_type": "stream",
     "text": [
      "\n",
      "Addition: [11 22 33]\n",
      "Subtraction: [ 9 18 27]\n",
      "Multiplication: [10 40 90]\n",
      "Division: [10. 10. 10.]\n",
      "Squared: [100 400 900]\n",
      "0\n",
      "3\n",
      "[0 1]\n",
      "[2 3]\n",
      "[1 3]\n"
     ]
    }
   ],
   "source": [
    "# 7️⃣ Basic Mathematical Operations\n",
    "a = np.array([10, 20, 30])\n",
    "b = np.array([1, 2, 3])\n",
    "print(\"\\nAddition:\", a + b)\n",
    "print(\"Subtraction:\", a - b)\n",
    "print(\"Multiplication:\", a * b)\n",
    "print(\"Division:\", a / b)\n",
    "print(\"Squared:\", a ** 2)\n",
    "\n",
    "a = np.array([1,2,3,4])\n",
    "b = np.array([2,1,5,4])\n",
    "\n",
    "a>b # array([False,  True, False, False])\n",
    "\n",
    "np.sin(a) # array([ 0.84147098,  0.90929743,  0.14112001, -0.7568025 ])\n",
    "np.log(a) # array([0.        , 0.69314718, 1.09861229, 1.38629436])\n",
    "np.exp(a) # array([ 2.71828183,  7.3890561 , 20.08553692, 54.59815003])\n",
    "\n",
    "# print(np.sum([[1,2],[3,4]])) # 10\n",
    "# print(np.sum([[1,2],[3,4]], axis=0)) # [4 6]\n",
    "# print(np.sum([[1,2],[3,4]], axis=1)) # [3 7]\n",
    "# print(np.diff([[1,2],[3,4]]))\n",
    "# [[1]\n",
    "#  [1]]\n",
    "# print(np.diff([[1,2],[3,4]], axis=0)) # [[2 2]]\n",
    "# print(np.diff([[1,2],[3,4]], axis=1)) \n",
    "# [[1]\n",
    "#  [1]]\n",
    "\n",
    "\n",
    "x=np.arange(4).reshape((2,2))\n",
    "print(np.amin(x))  # 0\n",
    "print(np.amax(x)) # 3\n",
    "print(np.amin(x, axis=0)) # [0 1]\n",
    "print(np.amax(x, axis=0)) # [2 3]\n",
    "print(np.amax(x, axis=1)) # [2 3]\n"
   ]
  },
  {
   "cell_type": "code",
   "execution_count": 11,
   "id": "c212c49d-7f0d-49fa-ba9a-e3fa95de1039",
   "metadata": {},
   "outputs": [
    {
     "name": "stdout",
     "output_type": "stream",
     "text": [
      "\n",
      "Mean: 3.5\n",
      "Median: 3.5\n",
      "Standard Deviation: 1.707825127659933\n",
      "Variance: 2.9166666666666665\n",
      "Min: 1\n",
      "Max: 6\n",
      "Sum: 21\n"
     ]
    }
   ],
   "source": [
    "# 8️⃣ Statistical Operations\n",
    "arr = np.array([1, 2, 3, 4, 5, 6])\n",
    "print(\"\\nMean:\", np.mean(arr))\n",
    "print(\"Median:\", np.median(arr))\n",
    "print(\"Standard Deviation:\", np.std(arr))\n",
    "print(\"Variance:\", np.var(arr))\n",
    "print(\"Min:\", np.min(arr))\n",
    "print(\"Max:\", np.max(arr))\n",
    "print(\"Sum:\", np.sum(arr))"
   ]
  },
  {
   "cell_type": "code",
   "execution_count": null,
   "id": "4c4741ca-1138-4cb3-b421-44bb5e870e4d",
   "metadata": {},
   "outputs": [
    {
     "name": "stdout",
     "output_type": "stream",
     "text": [
      "\n",
      "Element at (0,1): 2\n",
      "Column 1: [2 5 8]\n",
      "Subarray from (1,1):\n",
      " [[5 6]\n",
      " [8 9]]\n",
      "1: [3 6 9]\n",
      "2: [7 8 9]\n",
      "3: [7 8 9]\n",
      "4: [[5 6]\n",
      " [8 9]]\n",
      "5: [[1 2 3]]\n",
      "6: [[1 2]\n",
      " [4 5]]\n",
      "7: [[4 5]\n",
      " [7 8]]\n",
      "[[1 2]\n",
      " [3 4]\n",
      " [5 6]]\n"
     ]
    },
    {
     "data": {
      "text/plain": [
       "array([1, 4, 5])"
      ]
     },
     "execution_count": 55,
     "metadata": {},
     "output_type": "execute_result"
    }
   ],
   "source": [
    "# 9️⃣ Slicing & Indexing\n",
    "arr = np.array([[1, 2, 3], [4, 5, 6], [7, 8, 9]])\n",
    "print(\"\\nElement at (0,1):\", arr[0, 1])\n",
    "print(\"Column 1:\", arr[:, 1])\n",
    "print(\"Subarray from (1,1):\\n\", arr[1:, 1:])\n",
    "\n",
    "a= np.array([[1, 2, 3], [4, 5, 6], [7, 8, 9]])\n",
    "print(\"1:\",a[0:,2])\n",
    "print(\"2:\",a[2,0:])\n",
    "print(\"3:\",a[2,])\n",
    "print(\"4:\",a[1:,1:])\n",
    "print(\"5:\",a[:1,])\n",
    "print(\"6:\",a[0:2,:2])\n",
    "print(\"7:\",a[1:3,:2])\n",
    "\n",
    "a = np.arange(0,101,10) # array([  0,  10,  20,  30,  40,  50,  60,  70,  80,  90, 100])\n",
    "a[[1,3,5,7]] # array([10, 30, 50, 70])\n",
    "\n",
    "a[[1,10]] = 1111 # array([   0, 1111,   20,   30,   40,   50,   60,   70,   80,   90, 1111])\n",
    "a\n",
    "\n",
    "x=np.array([[1,2],[3,4],[5,6]])\n",
    "print(x)\n",
    "x[[0,1,2],[0,1,0]] # array([1, 4, 5])"
   ]
  },
  {
   "cell_type": "code",
   "execution_count": 15,
   "id": "624f00a7-fe21-46cc-8c3f-398ca79d3315",
   "metadata": {},
   "outputs": [
    {
     "name": "stdout",
     "output_type": "stream",
     "text": [
      "\n",
      "Horizontal Stack:\n",
      " [[1 2 5 6]\n",
      " [3 4 7 8]]\n",
      "\n",
      "Vertical Stack:\n",
      " [[1 2]\n",
      " [3 4]\n",
      " [5 6]\n",
      " [7 8]]\n"
     ]
    }
   ],
   "source": [
    "# 🔟 Stacking & Concatenation\n",
    "arr1 = np.array([[1, 2], [3, 4]])\n",
    "arr2 = np.array([[5, 6], [7, 8]])\n",
    "print(\"\\nHorizontal Stack:\\n\", np.hstack((arr1, arr2)))\n",
    "print(\"\\nVertical Stack:\\n\", np.vstack((arr1, arr2)))"
   ]
  },
  {
   "cell_type": "code",
   "execution_count": 19,
   "id": "35c44202-02ce-4ce4-9d53-01a4614fcfd9",
   "metadata": {},
   "outputs": [
    {
     "name": "stdout",
     "output_type": "stream",
     "text": [
      "\n",
      "Array + Scalar:\n",
      " [[11 12 13]\n",
      " [14 15 16]]\n",
      "\n",
      "Array + Scalar:\n",
      " [[10 20 30]\n",
      " [40 50 60]]\n",
      "\n",
      "Array + Scalar:\n",
      " [[-9 -8 -7]\n",
      " [-6 -5 -4]]\n",
      "\n",
      "Array + Scalar:\n",
      " [[0.1 0.2 0.3]\n",
      " [0.4 0.5 0.6]]\n"
     ]
    }
   ],
   "source": [
    "# 1️⃣1️⃣ Broadcasting\n",
    "arr = np.array([[1, 2, 3], [4, 5, 6]])\n",
    "scalar = 10\n",
    "print(\"\\nArray + Scalar:\\n\", arr + scalar)\n",
    "print(\"\\nArray + Scalar:\\n\", arr * scalar)\n",
    "print(\"\\nArray + Scalar:\\n\", arr - scalar)\n",
    "print(\"\\nArray + Scalar:\\n\", arr / scalar)\n",
    "\n",
    "# Full article: https://medium.com/@weidagang/understanding-broadcasting-in-numpy-c44dceae42ea#:~:text=What%20is%20Broadcasting%3F,loops%2C%20significantly%20streamlining%20your%20code."
   ]
  },
  {
   "cell_type": "code",
   "execution_count": 20,
   "id": "e276c352-04c5-4a56-acfd-1073b0d1fadc",
   "metadata": {},
   "outputs": [
    {
     "name": "stdout",
     "output_type": "stream",
     "text": [
      "\n",
      "Matrix Multiplication:\n",
      " [[19 22]\n",
      " [43 50]]\n",
      "\n",
      "Inverse:\n",
      " [[-2.   1. ]\n",
      " [ 1.5 -0.5]]\n",
      "\n",
      "Determinant: -2.0000000000000004\n",
      "\n",
      "Eigenvalues & Eigenvectors:\n",
      " EigResult(eigenvalues=array([-0.37228132,  5.37228132]), eigenvectors=array([[-0.82456484, -0.41597356],\n",
      "       [ 0.56576746, -0.90937671]]))\n"
     ]
    }
   ],
   "source": [
    "# 1️⃣2️⃣ Linear Algebra (Matrix Operations)\n",
    "A = np.array([[1, 2], [3, 4]])\n",
    "B = np.array([[5, 6], [7, 8]])\n",
    "print(\"\\nMatrix Multiplication:\\n\", np.dot(A, B))\n",
    "print(\"\\nInverse:\\n\", np.linalg.inv(A))\n",
    "print(\"\\nDeterminant:\", np.linalg.det(A))\n",
    "print(\"\\nEigenvalues & Eigenvectors:\\n\", np.linalg.eig(A))"
   ]
  },
  {
   "cell_type": "code",
   "execution_count": null,
   "id": "ecf5382a-7953-498c-8a19-9a96222f4d7e",
   "metadata": {},
   "outputs": [
    {
     "name": "stdout",
     "output_type": "stream",
     "text": [
      "\n",
      "Sorted Array:\n",
      " [1 1 2 3 4 5 9]\n",
      "Unique Values: [1 2 3 4 5 9]\n",
      "\n",
      "Sorted Array:\n",
      " [ 1  3  5  6  8 12 15]\n",
      "\n",
      "Sorted Array in reverse:\n",
      " [15 12  8  6  5  3  1]\n",
      "\n",
      "Sorted Array in reverse:\n",
      " [15 12  8  6  5  3  1]\n",
      "\n",
      "Sorted Array Exp4:\n",
      " [[ 7 12 15]\n",
      " [ 5 11 13]\n",
      " [ 6  8 10]\n",
      " [45 54 70]]\n",
      "\n",
      "Sorted Array Exp5:\n",
      " [[ 7 12 15]\n",
      " [ 5 11 13]\n",
      " [ 6  8 10]\n",
      " [45 54 70]]\n",
      "\n",
      "Sorted Array Exp6:\n",
      " [ 5  6  7  8 10 11 12 13 15 45 54 70]\n",
      "\n",
      "Sorted Array Exp7:\n",
      " [[ 8  5  7]\n",
      " [12  6 10]\n",
      " [13 15 11]\n",
      " [45 54 70]]\n",
      "\n",
      "Sorted Array Exp8:\n",
      " [[ 7 12 15]\n",
      " [ 5 11 13]\n",
      " [ 6  8 10]\n",
      " [45 54 70]]\n",
      "\n",
      "Sorted Array Exp9:\n",
      " [['grapes' 'mango' 'orange']\n",
      " ['apple' 'banana' 'cherry']\n",
      " ['jackfruit' 'papaya' 'watermelon']]\n",
      "\n",
      "Sorted Array Exp10:\n",
      " [False False  True  True  True  True]\n"
     ]
    }
   ],
   "source": [
    "# 1️⃣3️⃣ Sorting & Unique Values\n",
    "arr = np.array([3, 1, 4, 1, 5, 9, 2])\n",
    "print(\"\\nSorted Array:\\n\", np.sort(arr))\n",
    "print(\"Unique Values:\", np.unique(arr))\n",
    "\n",
    "# Example 1: Use numpy.sort() function\n",
    "# To get a sorted array in ascending order\n",
    "arr = np.array([5,8,6,12,3,15,1])\n",
    "sorted_array = np.sort(arr)\n",
    "print(\"\\nSorted Array:\\n\",sorted_array)\n",
    "# Example 2: Use numpy.ndarray.sort() function\n",
    "# sort an array in descending order\n",
    "print(\"\\nSorted Array in reverse:\\n\",sorted_array[::-1])\n",
    "\n",
    "# Example 3: Use numpy.sort() function\n",
    "# To get a sorted array and reverse the order\n",
    "sorted_array = np.sort(arr)[::-1]\n",
    "print(\"\\nSorted Array in reverse:\\n\",sorted_array)\n",
    "\n",
    "# Example 4: Use numpy.sort() to Sort a multi-dimensional array\n",
    "arr = np.array([[12, 15, 7], [13, 5,11], [8, 6, 10],[45,54,70]]) \n",
    "arr2 = np.sort(arr) \n",
    "print(\"\\nSorted Array Exp4:\\n\",arr2)\n",
    "\n",
    "\n",
    "# Example 5: Sort along the last axis\n",
    "arr = np.array([[12, 15, 7], [13, 5,11], [8, 6, 10],[45,54,70]]) \n",
    "arr2 = np.sort(arr, axis = -1)  \n",
    "print(\"\\nSorted Array Exp5:\\n\",arr2)\n",
    "\n",
    "# Example 6: Sort multi-dimensional array along a specified axis\n",
    "arr = np.array([[12, 15, 7], [13, 5,11], [8, 6, 10],[45,54,70]]) \n",
    "arr2 = np.sort(arr, axis= None) \n",
    "print(\"\\nSorted Array Exp6:\\n\",arr2)\n",
    "\n",
    "# Example 7: Sort along the first axis (axis=0)\n",
    "arr2 = np.sort(arr, axis=0) # column wise sort\n",
    "print(\"\\nSorted Array Exp7:\\n\",arr2)\n",
    "\n",
    "# Example 8: Sort along the second axis (axis=1) # row wise sort\n",
    "arr3 = np.sort(arr, axis=1)\n",
    "print(\"\\nSorted Array Exp8:\\n\",arr3)\n",
    "\n",
    "# Example 9: Sort the array alphabetically\n",
    "arr = np.array([['orange','mango','grapes'], ['banana','cherry','apple'], ['papaya','watermelon','jackfruit']]) \n",
    "arr2 = np.sort(arr) \n",
    "print(\"\\nSorted Array Exp9:\\n\",arr2)\n",
    "\n",
    "# Example 10: Sorted array with boolean values\n",
    "arr_bool = np.array([True, False, True, True, False, True])\n",
    "sorted_arr_bool = np.sort(arr_bool)\n",
    "print(\"\\nSorted Array Exp10:\\n\",sorted_arr_bool)\n",
    "\n"
   ]
  },
  {
   "cell_type": "code",
   "execution_count": 23,
   "id": "602961b1-7caa-4857-a6a8-a2c02ea30cf8",
   "metadata": {},
   "outputs": [
    {
     "name": "stdout",
     "output_type": "stream",
     "text": [
      "\n",
      "Loaded Array:\n",
      " [1 2 3 4 5]\n"
     ]
    }
   ],
   "source": [
    "# 1️⃣4️⃣ Saving & Loading Arrays\n",
    "arr = np.array([1, 2, 3, 4, 5])\n",
    "np.save(\"my_array.npy\", arr)\n",
    "loaded_arr = np.load(\"my_array.npy\")\n",
    "print(\"\\nLoaded Array:\\n\", loaded_arr)"
   ]
  },
  {
   "cell_type": "code",
   "execution_count": 24,
   "id": "2dbec4a4-4333-4fe6-bf6f-38a6c3067853",
   "metadata": {},
   "outputs": [
    {
     "name": "stdout",
     "output_type": "stream",
     "text": [
      "\n",
      "Elements > 3: [4 5 6]\n"
     ]
    }
   ],
   "source": [
    "# 1️⃣5️⃣ Boolean Indexing\n",
    "arr = np.array([1, 2, 3, 4, 5, 6])\n",
    "print(\"\\nElements > 3:\", arr[arr > 3])"
   ]
  },
  {
   "cell_type": "code",
   "execution_count": 48,
   "id": "61ab9f95-a543-49c2-8879-616932b3af88",
   "metadata": {},
   "outputs": [
    {
     "name": "stdout",
     "output_type": "stream",
     "text": [
      "\n",
      "Shallow Copy:\n",
      " [100   2   3]\n",
      "\n",
      "Shallow Copy:\n",
      " [100   2   3]\n",
      "\n",
      "Carbon/Deep Copy:\n",
      " [1 2 3]\n",
      "\n",
      "Carbon/Deep Copy:\n",
      " [100   2   3]\n",
      "[[1 0 0]\n",
      " [0 2 0]\n",
      " [0 0 3]]\n"
     ]
    },
    {
     "data": {
      "text/plain": [
       "array([[ 1,  0,  0],\n",
       "       [ 0,  2,  0],\n",
       "       [ 0, 10,  3]])"
      ]
     },
     "execution_count": 48,
     "metadata": {},
     "output_type": "execute_result"
    }
   ],
   "source": [
    "# 16 Other Misc:\n",
    "a = np.arange(0,100,5) # array([ 0,  5, 10, 15, 20, 25, 30, 35, 40, 45, 50, 55, 60, 65, 70, 75, 80, 85, 90, 95])\n",
    "\n",
    "np.linspace(0,10,5) # array([ 0. ,  2.5,  5. ,  7.5, 10. ]) - Evenly spaced numbers within the given tange.\n",
    "\n",
    "a= np.array([[1, 2, 3], [4, 5, 6], [7, 8, 9]])\n",
    "a.ravel() # array([1, 2, 3, 4, 5, 6, 7, 8, 9])\n",
    "\n",
    "# Copy:\n",
    "a = np.array([1,2,3])\n",
    "b = a\n",
    "b[0] = 100\n",
    "print(\"\\nShallow Copy:\\n\",a)\n",
    "print(\"\\nShallow Copy:\\n\",b)\n",
    "\n",
    "a = np.array([1,2,3])\n",
    "b = a.copy()\n",
    "b[0] = 100\n",
    "print(\"\\nCarbon/Deep Copy:\\n\",a)\n",
    "print(\"\\nCarbon/Deep Copy:\\n\",b)\n",
    "\n",
    "\n",
    "print(np.diag([1,2,3]))\n",
    "# [[1 0 0]\n",
    "#  [0 2 0]\n",
    "#  [0 0 3]]\n",
    "\n",
    "a  = np.diag([1,2,3])\n",
    "a[2,1]\n",
    "a[2,1] = 10\n",
    "a\n"
   ]
  },
  {
   "cell_type": "code",
   "execution_count": null,
   "id": "5dd03b13",
   "metadata": {},
   "outputs": [
    {
     "data": {
      "text/plain": [
       "array([-1, -1,  0])"
      ]
     },
     "execution_count": 70,
     "metadata": {},
     "output_type": "execute_result"
    }
   ],
   "source": [
    "# String Functions\n",
    "\n",
    "x=np.array((\"iam a numpy\"))\n",
    "y=np.array((\"program\"))\n",
    "\n",
    "np.char.add(x,y) # array('iam a numpyprogram', dtype='<U18')\n",
    "np.char.multiply(y,5) # array('programprogramprogramprogramprogram', dtype='<U35')\n",
    "np.char.split(x) # array(list(['iam', 'a', 'numpy']), dtype=object)\n",
    "np.char.capitalize(x) # array('Iam a numpy', dtype='<U11')\n",
    "np.char.upper(x) # array('IAM A NUMPY', dtype='<U11')\n",
    "np.char.not_equal(\"iam\",\"numpy\") # array(True)\n",
    "x = np.array(['bet','abet','alphabet'])\n",
    "np.char.count(x,'bet') # array([1, 1, 1])\n",
    "np.char.count(x,'abet') # array([0, 1, 1])\n",
    "np.char.isnumeric('bet') # array(False)\n",
    "\n",
    "x=np.array(['bet','abet','alphabet'])\n",
    "np.char.rfind(x,'abet') # array([-1,  0,  4])\n",
    "np.char.rfind(x,'bet') # array([0, 1, 5])\n",
    "np.char.rfind(x,'alphabet') # array([-1, -1,  0])"
   ]
  },
  {
   "cell_type": "markdown",
   "id": "72dbd8db",
   "metadata": {},
   "source": [
    "- Mask / Fancy Indexing"
   ]
  },
  {
   "cell_type": "code",
   "execution_count": null,
   "id": "b91917d2",
   "metadata": {},
   "outputs": [
    {
     "data": {
      "text/plain": [
       "array([16, 20, 40])"
      ]
     },
     "execution_count": 50,
     "metadata": {},
     "output_type": "execute_result"
    }
   ],
   "source": [
    "a = np.array([1,16,5,20,35,40])\n",
    "a %2 ==0 # array([False,  True, False,  True, False,  True])\n",
    "a[a%2 == 0] # array([16, 20, 40])"
   ]
  },
  {
   "cell_type": "code",
   "execution_count": null,
   "id": "b9942999",
   "metadata": {},
   "outputs": [
    {
     "name": "stdout",
     "output_type": "stream",
     "text": [
      "[1 2 3 4 5 6]\n",
      "[ 1  2  3 10]\n",
      "[[1 2 3]\n",
      " [4 5 6]\n",
      " [7 8 9]]\n"
     ]
    },
    {
     "data": {
      "text/plain": [
       "array([ 1,  2, 30,  3,  4])"
      ]
     },
     "execution_count": 12,
     "metadata": {},
     "output_type": "execute_result"
    }
   ],
   "source": [
    "# Appending\n",
    "\n",
    "arr1 = np.array([1, 2, 3])\n",
    "arr2 = np.array([4, 5, 6])\n",
    "\n",
    "n = 10\n",
    "\n",
    "arr_appended = np.append(arr1, arr2)\n",
    "print(arr_appended)\n",
    "print(np.append(arr1,n)) # array([ 1,  2,  3, 10])\n",
    "\n",
    "arr1 = np.array([[1, 2, 3], [4, 5, 6]])\n",
    "\n",
    "# Append new row\n",
    "arr2 = np.array([[7, 8, 9]])\n",
    "\n",
    "arr_appended = np.append(arr1, arr2, axis=0)\n",
    "print(arr_appended)\n",
    "\n",
    "arr1 = np.array([[1, 2], [3, 4]])\n",
    "arr2 = np.array([[5], [6]])\n",
    "\n",
    "arr_appended = np.append(arr1, arr2, axis=1)\n",
    "arr_appended\n"
   ]
  },
  {
   "cell_type": "code",
   "execution_count": null,
   "id": "b04486bd",
   "metadata": {},
   "outputs": [
    {
     "name": "stdout",
     "output_type": "stream",
     "text": [
      "[1 2 3 4 5]\n",
      "[  1   2 100   4 200   5]\n",
      "[[1 2]\n",
      " [3 4]\n",
      " [5 6]]\n",
      "[[ 1 10 20  2]\n",
      " [ 5 10 20  6]]\n"
     ]
    },
    {
     "data": {
      "text/plain": [
       "array([ 1,  2, 30,  3,  4])"
      ]
     },
     "execution_count": 21,
     "metadata": {},
     "output_type": "execute_result"
    }
   ],
   "source": [
    "# Inserting\n",
    "# Syntax: numpy.insert(arr, obj, values, axis=None)\n",
    "\n",
    "import numpy as np\n",
    "\n",
    "arr = np.array([1, 2, 4, 5])\n",
    "\n",
    "# Insert at index 2\n",
    "print(np.insert(arr, 2, 3)) # [1 2 3 4 5] - allows you to insert elements into an array at a given index position along a specified axis.\n",
    "\n",
    "# Insert multiple values\n",
    "print(np.insert(arr, [2, 3], [100, 200])) # [  1   2 100   4 200   5]\n",
    "\n",
    "arr = np.array([[1, 2], [5, 6]])\n",
    "\n",
    "# Insert row\n",
    "print(np.insert(arr, 1, [[3, 4]], axis=0))\n",
    "\n",
    "# [[1 2]\n",
    "#  [3 4]\n",
    "#  [5 6]]\n",
    "\n",
    "# Insert column\n",
    "print(np.insert(arr, 1, [[10], [20]], axis=1))\n",
    "\n",
    "# [[ 1 10  2]\n",
    "#  [ 3 20  4]\n",
    "#  [ 5 20  6]]\n"
   ]
  },
  {
   "cell_type": "code",
   "execution_count": 22,
   "id": "c33ac8e5",
   "metadata": {},
   "outputs": [
    {
     "name": "stdout",
     "output_type": "stream",
     "text": [
      "[1 3 4 5]\n",
      "[1 3 5]\n",
      "[[1 2 3]\n",
      " [7 8 9]]\n",
      "[[2 3]\n",
      " [5 6]\n",
      " [8 9]]\n"
     ]
    }
   ],
   "source": [
    "# Deleting\n",
    "import numpy as np\n",
    "\n",
    "arr = np.array([1, 2, 3, 4, 5])\n",
    "\n",
    "# Delete index 1\n",
    "print(np.delete(arr, 1))\n",
    "\n",
    "\n",
    "arr = np.array([1, 2, 3, 4, 5])\n",
    "\n",
    "# Delete slice\n",
    "print(np.delete(arr, [1, 3]))\n",
    "\n",
    "# We can also delete along an axis like rows or columns:\n",
    "arr = np.array([[1, 2, 3], [4, 5, 6], [7, 8, 9]])\n",
    "\n",
    "# Delete second row\n",
    "print(np.delete(arr, 1, axis=0)) # axis=0 means row level deletion.\n",
    "\n",
    "# [[1 2 3]\n",
    "#  [7 8 9]]\n",
    "\n",
    "# Delete first column\n",
    "print(np.delete(arr, 0, axis=1)) # axis=1 means column level deletion.\n",
    "\n",
    "# [[2 3]\n",
    "#  [5 6]\n",
    "#  [8 9]]\n"
   ]
  },
  {
   "cell_type": "markdown",
   "id": "a4c6da8c",
   "metadata": {},
   "source": [
    "- Adding a Row to a DataFrame"
   ]
  },
  {
   "cell_type": "code",
   "execution_count": 23,
   "id": "d710eb3c",
   "metadata": {},
   "outputs": [
    {
     "name": "stdout",
     "output_type": "stream",
     "text": [
      "   A  B\n",
      "0  1  2\n",
      "1  3  4\n",
      "2  5  6\n"
     ]
    }
   ],
   "source": [
    "import pandas as pd\n",
    "import numpy as np\n",
    "\n",
    "df = pd.DataFrame([[1, 2], [3, 4]], columns=['A','B'])\n",
    "\n",
    "new_row = np.array([[5, 6]])\n",
    "\n",
    "df = pd.DataFrame(np.append(df.values, new_row, axis=0), columns=df.columns)\n",
    "\n",
    "print(df)\n",
    "#    A  B\n",
    "# 0  1  2\n",
    "# 1  3  4\n",
    "# 2  5  6"
   ]
  },
  {
   "cell_type": "markdown",
   "id": "0da0b927",
   "metadata": {},
   "source": [
    "- Deleting Outliers from Data"
   ]
  },
  {
   "cell_type": "code",
   "execution_count": 27,
   "id": "be9e7690",
   "metadata": {},
   "outputs": [
    {
     "name": "stdout",
     "output_type": "stream",
     "text": [
      "(array([2, 4], dtype=int64),)\n",
      "[1.1 5.5 7.4]\n"
     ]
    }
   ],
   "source": [
    "import numpy as np\n",
    "\n",
    "data = np.array([1.1, 5.5, -100, 7.4, 9.0])\n",
    "\n",
    "max_limit = 8.0\n",
    "min_limit = -5.0\n",
    "\n",
    "# Find indices of outliers\n",
    "outlier_indices = np.where((data > max_limit) | (data < min_limit))\n",
    "print(outlier_indices)\n",
    "\n",
    "# Delete outliers\n",
    "print(np.delete(data, outlier_indices))\n",
    "\n",
    "# [ 1.1  5.5   7.4]"
   ]
  },
  {
   "cell_type": "markdown",
   "id": "430f12ec",
   "metadata": {},
   "source": [
    "- Inserting Missing Values"
   ]
  },
  {
   "cell_type": "code",
   "execution_count": 35,
   "id": "5a20ebc4",
   "metadata": {},
   "outputs": [
    {
     "name": "stdout",
     "output_type": "stream",
     "text": [
      "[3]\n",
      "[1.1 2.2 3.3 nan 0.  4.4]\n"
     ]
    }
   ],
   "source": [
    "import numpy as np\n",
    "\n",
    "data = np.array([1.1, 2.2, 3.3,0, 4.4])\n",
    "\n",
    "# Find indices where missing\n",
    "missing_indices = np.where(data == 0)\n",
    "print(missing_indices[0])\n",
    "\n",
    "# Insert NaN\n",
    "print(np.insert(data, missing_indices[0], np.nan))\n",
    "\n",
    "# [  1.1   2.2   3.3  nan   4.4]"
   ]
  },
  {
   "cell_type": "markdown",
   "id": "7b49a674",
   "metadata": {},
   "source": [
    "- Usefull Link: https://llego.dev/posts/numpy-adding-removing-elements-append-delete-insert/"
   ]
  },
  {
   "cell_type": "markdown",
   "id": "c24447e2",
   "metadata": {},
   "source": []
  },
  {
   "cell_type": "code",
   "execution_count": 37,
   "id": "c4633530",
   "metadata": {},
   "outputs": [
    {
     "name": "stdout",
     "output_type": "stream",
     "text": [
      "[ 1  2  3  4  5  6  7  8  9 10]\n",
      "[ 1  2  3  4 40  6  7  8  9 10]\n"
     ]
    }
   ],
   "source": [
    "# Assign\n",
    "\n",
    "a = np.arange(1,11)\n",
    "print(a)\n",
    "a[4] = 40\n",
    "print(a)"
   ]
  },
  {
   "cell_type": "markdown",
   "id": "d847b769",
   "metadata": {},
   "source": [
    "- Histograms:\n",
    "\n",
    "Histogram: This will return the computed histogram of a set of data. This function mainly\n",
    "works with bins and set of data given as input. Numpy histogram function will give the\n",
    "computed result as the occurances of input data which fall in each of the particular\n",
    "range of bins. That determines the range of area of each bar when plotted using\n",
    "matplotlib."
   ]
  },
  {
   "cell_type": "code",
   "execution_count": 75,
   "id": "1428c9cf",
   "metadata": {},
   "outputs": [
    {
     "data": {
      "text/plain": [
       "(array([0, 3, 2, 1, 2], dtype=int64), array([ 0, 10, 20, 30, 40, 50]))"
      ]
     },
     "execution_count": 75,
     "metadata": {},
     "output_type": "execute_result"
    }
   ],
   "source": [
    "import numpy as np\n",
    "\n",
    "np.histogram([10,15,16,24,25,45,36,45], bins=[0,10,20,30,40,50])"
   ]
  },
  {
   "cell_type": "code",
   "execution_count": 76,
   "id": "287fa09f",
   "metadata": {},
   "outputs": [
    {
     "data": {
      "image/png": "[encoded data removed]",
      "text/plain": [
       "<Figure size 640x480 with 1 Axes>"
      ]
     },
     "metadata": {},
     "output_type": "display_data"
    }
   ],
   "source": [
    "import matplotlib.pyplot as plt\n",
    "plt.hist([10,15,16,24,25,45,36,45], bins=[0,10,20,30,40,50])\n",
    "plt.show()"
   ]
  },
  {
   "cell_type": "code",
   "execution_count": null,
   "id": "b4396374",
   "metadata": {},
   "outputs": [],
   "source": []
  }
 ],
 "metadata": {
  "kernelspec": {
   "display_name": "Python 3 (ipykernel)",
   "language": "python",
   "name": "python3"
  },
  "language_info": {
   "codemirror_mode": {
    "name": "ipython",
    "version": 3
   },
   "file_extension": ".py",
   "mimetype": "text/x-python",
   "name": "python",
   "nbconvert_exporter": "python",
   "pygments_lexer": "ipython3",
   "version": "3.12.7"
  }
 },
 "nbformat": 4,
 "nbformat_minor": 5
}
