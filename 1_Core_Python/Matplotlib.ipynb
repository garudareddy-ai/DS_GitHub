{
 "cells": [
  {
   "cell_type": "code",
   "execution_count": 1,
   "id": "8bdd4341-9a5b-48d1-b6bd-26d9891dfccb",
   "metadata": {},
   "outputs": [],
   "source": [
    "import matplotlib.pyplot as plt"
   ]
  },
  {
   "cell_type": "markdown",
   "id": "e7735eee",
   "metadata": {},
   "source": [
    "# https://www.geeksforgeeks.org/python/matplotlib-tutorial/"
   ]
  },
  {
   "cell_type": "markdown",
   "id": "a5dc7b15",
   "metadata": {},
   "source": [
    "# Plot Types:\n",
    "    - Pairwise data\n",
    "    - Statistical distributions\n",
    "    - Gridded data\n",
    "    - Irregularly gridded data\n",
    "    - 3D and volumetric data\n",
    "\n",
    "- https://matplotlib.org/stable/plot_types/index.html"
   ]
  },
  {
   "cell_type": "markdown",
   "id": "fdecfa42",
   "metadata": {},
   "source": [
    "## 1. Pairwise Data\n",
    " - Plot\n",
    " - Scatter\n",
    " - Bar\n",
    " - Stem\n",
    " - Fill_Between\n",
    " - Stackplot\n",
    " - Stairs"
   ]
  },
  {
   "cell_type": "markdown",
   "id": "251940c9",
   "metadata": {},
   "source": [
    "### 1.1 Plot:\n",
    " - Plot y versus x as lines and/or markers."
   ]
  },
  {
   "cell_type": "code",
   "execution_count": 2,
   "id": "5f20e71e",
   "metadata": {},
   "outputs": [
    {
     "data": {
      "image/png": "[encoded data removed]",
      "text/plain": [
       "<Figure size 144x144 with 1 Axes>"
      ]
     },
     "metadata": {
      "needs_background": "light"
     },
     "output_type": "display_data"
    }
   ],
   "source": [
    "import matplotlib.pyplot as plt\n",
    "import numpy as np\n",
    "\n",
    "plt.style.use('_mpl-gallery')\n",
    "\n",
    "# make data\n",
    "x = np.linspace(0, 10, 100)\n",
    "y = 4 + 1 * np.sin(2 * x)\n",
    "x2 = np.linspace(0, 10, 25)\n",
    "y2 = 4 + 1 * np.sin(2 * x2)\n",
    "\n",
    "# plot\n",
    "fig, ax = plt.subplots()\n",
    "\n",
    "ax.plot(x2, y2 + 2.5, 'x', markeredgewidth=2)\n",
    "ax.plot(x, y, linewidth=2.0)\n",
    "ax.plot(x2, y2 - 2.5, 'o-', linewidth=2)\n",
    "\n",
    "ax.set(xlim=(0, 8), xticks=np.arange(1, 8),\n",
    "       ylim=(0, 8), yticks=np.arange(1, 8))\n",
    "\n",
    "plt.show()"
   ]
  },
  {
   "cell_type": "markdown",
   "id": "f040e4b3",
   "metadata": {},
   "source": []
  },
  {
   "cell_type": "markdown",
   "id": "a5b6d9d4",
   "metadata": {},
   "source": [
    "## Statistical distributions\n",
    " - Hist\n",
    " - Boxplot\n",
    " - Errorbar\n",
    " - Violinplot\n",
    " - Eventplot\n",
    " - Hist2d\n",
    " - Hexbin\n",
    " - Pie\n",
    " - Ecdf"
   ]
  },
  {
   "cell_type": "markdown",
   "id": "082a0a23",
   "metadata": {},
   "source": []
  },
  {
   "cell_type": "code",
   "execution_count": null,
   "id": "094f0185",
   "metadata": {},
   "outputs": [],
   "source": []
  },
  {
   "cell_type": "markdown",
   "id": "e7a6ed39",
   "metadata": {},
   "source": [
    "## Gridded data\n",
    " - Imshow\n",
    " - Pcolormesh\n",
    " - Contour\n",
    " - Contourf\n",
    " - Barbs\n",
    " - Quiver\n",
    " - Streamplot\n"
   ]
  },
  {
   "cell_type": "code",
   "execution_count": null,
   "id": "cbddaf6b",
   "metadata": {},
   "outputs": [],
   "source": []
  },
  {
   "cell_type": "markdown",
   "id": "1b7f0fb5",
   "metadata": {},
   "source": [
    "## Irregularly gridded data\n",
    " - Tricontour\n",
    " - Tricontourf\n",
    " - Tripcolor\n",
    " - Triplot"
   ]
  },
  {
   "cell_type": "code",
   "execution_count": null,
   "id": "bfb75820",
   "metadata": {},
   "outputs": [],
   "source": []
  },
  {
   "cell_type": "markdown",
   "id": "1f4b054f",
   "metadata": {},
   "source": [
    "## 3D and volumetric data\n",
    " - Bar3d\n",
    " - Fill_between\n",
    " - Plot\n",
    " - Quiver\n",
    " - Scatter\n",
    " - Stem\n",
    " - Plot_surface\n",
    " - Plot_trisurf\n",
    " - Voxels\n",
    " - Plot_wireframe"
   ]
  }
 ],
 "metadata": {
  "kernelspec": {
   "display_name": "Python 3",
   "language": "python",
   "name": "python3"
  },
  "language_info": {
   "codemirror_mode": {
    "name": "ipython",
    "version": 3
   },
   "file_extension": ".py",
   "mimetype": "text/x-python",
   "name": "python",
   "nbconvert_exporter": "python",
   "pygments_lexer": "ipython3",
   "version": "3.9.12"
  }
 },
 "nbformat": 4,
 "nbformat_minor": 5
}
