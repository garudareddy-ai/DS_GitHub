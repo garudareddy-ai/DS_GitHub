{
 "cells": [
  {
   "cell_type": "code",
   "execution_count": null,
   "id": "60248b5b-d594-493c-a528-56ea6c295445",
   "metadata": {},
   "outputs": [],
   "source": [
    "# https://www.geeksforgeeks.org/data-visualization/data-visualization-with-python-seaborn/\n",
    "# https://www.geeksforgeeks.org/data-visualization/pandas-built-in-data-visualization-ml/\n",
    "# https://www.geeksforgeeks.org/python/python-seaborn-tutorial/"
   ]
  },
  {
   "cell_type": "markdown",
   "id": "360b34e2",
   "metadata": {},
   "source": [
    "📦 1. Importing Seaborn and Dataset\n",
    "\n",
    "import seaborn as sns\n",
    "import matplotlib.pyplot as plt\n",
    "df = sns.load_dataset('tips')  # Example dataset\n",
    "\n",
    "🎨 2. Setting Aesthetics\n",
    "sns.set()  # Default theme\n",
    "sns.set_style(\"whitegrid\")  # Styles: darkgrid, whitegrid, dark, white, ticks\n",
    "sns.set_palette(\"pastel\")  # Palette: deep, muted, bright, pastel, dark, colorblind\n",
    "\n",
    "📊 3. Categorical Plots\n",
    "sns.barplot(x=\"day\", y=\"total_bill\", data=df)\n",
    "sns.countplot(x=\"day\", data=df)\n",
    "sns.boxplot(x=\"day\", y=\"total_bill\", data=df)\n",
    "sns.violinplot(x=\"day\", y=\"total_bill\", data=df)\n",
    "sns.stripplot(x=\"day\", y=\"total_bill\", data=df, jitter=True)\n",
    "sns.swarmplot(x=\"day\", y=\"total_bill\", data=df)\n",
    "sns.pointplot(x=\"day\", y=\"total_bill\", data=df)\n",
    "\n",
    "📈 4. Distribution Plots\n",
    "sns.histplot(df['total_bill'], kde=True)\n",
    "sns.kdeplot(df['total_bill'], shade=True)\n",
    "sns.rugplot(df['total_bill'])\n",
    "\n",
    "📉 5. Relational Plots\n",
    "sns.scatterplot(x=\"total_bill\", y=\"tip\", data=df)\n",
    "sns.lineplot(x=\"total_bill\", y=\"tip\", data=df)\n",
    "sns.relplot(x=\"total_bill\", y=\"tip\", hue=\"sex\", data=df)  # Faceted\n",
    "\n",
    "📚 6. Regression Plots\n",
    "sns.regplot(x=\"total_bill\", y=\"tip\", data=df)\n",
    "sns.lmplot(x=\"total_bill\", y=\"tip\", data=df, hue=\"sex\")\n",
    "\n",
    "📐 7. Matrix Plots\n",
    "sns.heatmap(df.corr(), annot=True, cmap=\"coolwarm\")\n",
    "sns.clustermap(df.corr())\n",
    "\n",
    "🔄 8. Multi-Plot Grids\n",
    "g = sns.FacetGrid(df, col=\"sex\")\n",
    "g.map(sns.histplot, \"total_bill\")\n",
    "\n",
    "sns.pairplot(df)  # Entire dataset relationships\n",
    "\n",
    "⚙️ 9. Customizing Plots\n",
    "plt.title(\"Total Bill Distribution\")\n",
    "plt.xlabel(\"Total Bill\")\n",
    "plt.ylabel(\"Frequency\")\n",
    "plt.legend()\n",
    "plt.show()\n",
    "\n",
    "🎯 10. Saving Plots\n",
    "plt.savefig(\"plot.png\")"
   ]
  }
 ],
 "metadata": {
  "kernelspec": {
   "display_name": "Python 3 (ipykernel)",
   "language": "python",
   "name": "python3"
  },
  "language_info": {
   "codemirror_mode": {
    "name": "ipython",
    "version": 3
   },
   "file_extension": ".py",
   "mimetype": "text/x-python",
   "name": "python",
   "nbconvert_exporter": "python",
   "pygments_lexer": "ipython3",
   "version": "3.12.7"
  }
 },
 "nbformat": 4,
 "nbformat_minor": 5
}
