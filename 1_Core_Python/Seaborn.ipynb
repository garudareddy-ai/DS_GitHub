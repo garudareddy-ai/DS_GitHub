{
 "cells": [
  {
   "cell_type": "code",
   "execution_count": null,
   "id": "60248b5b-d594-493c-a528-56ea6c295445",
   "metadata": {},
   "outputs": [],
   "source": [
    "# https://www.geeksforgeeks.org/data-visualization/data-visualization-with-python-seaborn/\n",
    "# https://www.geeksforgeeks.org/data-visualization/pandas-built-in-data-visualization-ml/\n",
    "# https://www.geeksforgeeks.org/python/python-seaborn-tutorial/"
   ]
  }
 ],
 "metadata": {
  "kernelspec": {
   "display_name": "Python 3 (ipykernel)",
   "language": "python",
   "name": "python3"
  },
  "language_info": {
   "codemirror_mode": {
    "name": "ipython",
    "version": 3
   },
   "file_extension": ".py",
   "mimetype": "text/x-python",
   "name": "python",
   "nbconvert_exporter": "python",
   "pygments_lexer": "ipython3",
   "version": "3.12.7"
  }
 },
 "nbformat": 4,
 "nbformat_minor": 5
}
